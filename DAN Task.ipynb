{
  "cells": [
    {
      "cell_type": "code",
      "execution_count": 63,
      "id": "7f9c64fb",
      "metadata": {
        "id": "7f9c64fb"
      },
      "outputs": [],
      "source": [
        "from typing import Dict, List\n",
        "\n",
        "import matplotlib.pyplot as plt\n",
        "import numpy as np\n",
        "import pandas as pd\n",
        "import seaborn as sns\n",
        "import torch\n",
        "\n",
        "from datasets import load_dataset\n",
        "from nltk.tokenize import ToktokTokenizer\n",
        "from sklearn.metrics import f1_score, accuracy_score, classification_report, ConfusionMatrixDisplay\n",
        "from torch import nn\n",
        "from torch.utils.data import DataLoader\n",
        "from tqdm import tqdm\n",
        "from transformers.optimization import get_cosine_schedule_with_warmup"
      ]
    },
    {
      "cell_type": "markdown",
      "id": "102d7074",
      "metadata": {
        "id": "102d7074"
      },
      "source": [
        "# Deep Average Network для определения сентимента "
      ]
    },
    {
      "cell_type": "code",
      "execution_count": 3,
      "id": "e15a9f7c",
      "metadata": {
        "id": "e15a9f7c"
      },
      "outputs": [],
      "source": [
        "def load_embeddings(path, num_tokens=100_000):\n",
        "    \"\"\"\n",
        "    Load by file path no more emdeddings than tokens number.\n",
        "\n",
        "    path -- file path to embeddings\n",
        "    num_tokens -- tokens number (default 100_000)\n",
        "    \"\"\"\n",
        "    token2index: Dict[str, int] = {}\n",
        "    embeddings = []\n",
        "    with open(path) as file_object:\n",
        "        vocab_size, embedding_dim = file_object.readline().strip().split()\n",
        "        vocab_size, embedding_dim = int(vocab_size), int(embedding_dim)\n",
        "        num_tokens = vocab_size if num_tokens <= 0 else num_tokens\n",
        "        token2index['PAD'] = 0\n",
        "        embeddings.append(np.zeros(embedding_dim))\n",
        "        token2index['UNK'] = 1\n",
        "        embeddings.append(np.ones(embedding_dim))\n",
        "        for line in tqdm(file_object, total=num_tokens, desc='Reading embeddings file'):\n",
        "            parts = line.strip().split()\n",
        "            token = ' '.join(parts[:-embedding_dim]).lower()\n",
        "            if token in token2index:\n",
        "                continue\n",
        "            embedding = np.array(list(map(float, parts[-embedding_dim:])))\n",
        "            token2index[token] = len(token2index)\n",
        "            embeddings.append(embedding)\n",
        "            if len(token2index) == num_tokens:\n",
        "                break\n",
        "    embeddings_matrix: np.array = np.array(embeddings)\n",
        "    assert(len(token2index) == embeddings_matrix.shape[0])\n",
        "    \n",
        "    return token2index, embeddings_matrix"
      ]
    },
    {
      "cell_type": "code",
      "source": [
        "!wget  https://dl.fbaipublicfiles.com/fasttext/vectors-crawl/cc.ru.300.vec.gz\n",
        "!gzip -d cc.ru.300.vec.gz"
      ],
      "metadata": {
        "colab": {
          "base_uri": "https://localhost:8080/"
        },
        "id": "cnZJc_o7lce1",
        "outputId": "b97b0014-2d51-48a4-9435-2c6f35572bec"
      },
      "id": "cnZJc_o7lce1",
      "execution_count": 4,
      "outputs": [
        {
          "output_type": "stream",
          "name": "stdout",
          "text": [
            "--2022-02-10 06:11:34--  https://dl.fbaipublicfiles.com/fasttext/vectors-crawl/cc.ru.300.vec.gz\n",
            "Resolving dl.fbaipublicfiles.com (dl.fbaipublicfiles.com)... 104.22.75.142, 104.22.74.142, 172.67.9.4, ...\n",
            "Connecting to dl.fbaipublicfiles.com (dl.fbaipublicfiles.com)|104.22.75.142|:443... connected.\n",
            "HTTP request sent, awaiting response... 200 OK\n",
            "Length: 1306357571 (1.2G) [binary/octet-stream]\n",
            "Saving to: ‘cc.ru.300.vec.gz’\n",
            "\n",
            "cc.ru.300.vec.gz    100%[===================>]   1.22G  25.4MB/s    in 50s     \n",
            "\n",
            "2022-02-10 06:12:25 (25.0 MB/s) - ‘cc.ru.300.vec.gz’ saved [1306357571/1306357571]\n",
            "\n",
            "gzip: cc.ru.300.vec already exists; do you wish to overwrite (y or n)? н\n",
            "\tnot overwritten\n"
          ]
        }
      ]
    },
    {
      "cell_type": "markdown",
      "id": "c46b2b68",
      "metadata": {
        "id": "c46b2b68"
      },
      "source": [
        "## Загружаем данные из библиотеки\n",
        "Мы сразу получим `torch.utils.data.Dataset`, который сможем передать в `torch.utils.data.DataLoader`"
      ]
    },
    {
      "cell_type": "code",
      "execution_count": 5,
      "id": "e54fdaa8",
      "metadata": {
        "id": "e54fdaa8",
        "outputId": "d2999e9b-e40c-4a1f-b522-9283d71edf90",
        "colab": {
          "base_uri": "https://localhost:8080/"
        }
      },
      "outputs": [
        {
          "output_type": "stream",
          "name": "stderr",
          "text": [
            "Reusing dataset tweet_eval (/root/.cache/huggingface/datasets/tweet_eval/sentiment/1.1.0/12aee5282b8784f3e95459466db4cdf45c6bf49719c25cdb0743d71ed0410343)\n",
            "Reusing dataset tweet_eval (/root/.cache/huggingface/datasets/tweet_eval/sentiment/1.1.0/12aee5282b8784f3e95459466db4cdf45c6bf49719c25cdb0743d71ed0410343)\n",
            "Reusing dataset tweet_eval (/root/.cache/huggingface/datasets/tweet_eval/sentiment/1.1.0/12aee5282b8784f3e95459466db4cdf45c6bf49719c25cdb0743d71ed0410343)\n"
          ]
        }
      ],
      "source": [
        "dataset_path = \"tweet_eval\"\n",
        "dataset_name = \"sentiment\"\n",
        "\n",
        "train_dataset = load_dataset(path=dataset_path, name=dataset_name, split=\"train\")\n",
        "valid_dataset = load_dataset(path=dataset_path, name=dataset_name, split=\"validation\")\n",
        "test_dataset = load_dataset(path=dataset_path, name=dataset_name, split=\"test\")"
      ]
    },
    {
      "cell_type": "markdown",
      "id": "ad4a0650",
      "metadata": {
        "id": "ad4a0650"
      },
      "source": [
        "## `torch.utils.data.DataLoader`"
      ]
    },
    {
      "cell_type": "code",
      "execution_count": 6,
      "id": "dc742027",
      "metadata": {
        "id": "dc742027"
      },
      "outputs": [],
      "source": [
        "train_loader = DataLoader(train_dataset, batch_size=2, shuffle=True)\n",
        "valid_loader = DataLoader(valid_dataset, batch_size=2, shuffle=False)\n",
        "test_loader = DataLoader(test_dataset, batch_size=2, shuffle=False)"
      ]
    },
    {
      "cell_type": "code",
      "execution_count": 7,
      "id": "49bf6b50",
      "metadata": {
        "id": "49bf6b50",
        "outputId": "2b2ac9a8-a58a-4638-9f93-3b76889467e8",
        "colab": {
          "base_uri": "https://localhost:8080/"
        }
      },
      "outputs": [
        {
          "output_type": "execute_result",
          "data": {
            "text/plain": [
              "{'label': tensor([2, 0]),\n",
              " 'text': ['John Cena has been named as the 2nd most Charitable Athlete in the world..  1st. C Ronaldo-  2nd .John Cena  and...',\n",
              "  'Happy Friday: A health worker who may have had contact with Ebola is on a frigging cruise ship']}"
            ]
          },
          "metadata": {},
          "execution_count": 7
        }
      ],
      "source": [
        "for batch in train_loader:\n",
        "    break\n",
        "\n",
        "batch"
      ]
    },
    {
      "cell_type": "code",
      "execution_count": 11,
      "id": "3b7ce86b",
      "metadata": {
        "id": "3b7ce86b"
      },
      "outputs": [],
      "source": [
        "def empty_collate(batch):\n",
        "    return batch"
      ]
    },
    {
      "cell_type": "code",
      "execution_count": 12,
      "id": "26f0fe92",
      "metadata": {
        "id": "26f0fe92"
      },
      "outputs": [],
      "source": [
        "train_loader = DataLoader(train_dataset, batch_size=2, shuffle=True, collate_fn=empty_collate)\n",
        "valid_loader = DataLoader(valid_dataset, batch_size=2, shuffle=False, collate_fn=empty_collate)\n",
        "test_loader = DataLoader(test_dataset, batch_size=2, shuffle=False, collate_fn=empty_collate)"
      ]
    },
    {
      "cell_type": "code",
      "execution_count": 13,
      "id": "942cf78e",
      "metadata": {
        "id": "942cf78e",
        "outputId": "536a7513-2c79-4428-c922-e95a526e37a1",
        "colab": {
          "base_uri": "https://localhost:8080/"
        }
      },
      "outputs": [
        {
          "output_type": "execute_result",
          "data": {
            "text/plain": [
              "[{'label': 1,\n",
              "  'text': 'De Biasi (coach ALB): \"Ronaldo better keeps quiet tomorrow or Messi will get my vote for the Ballon d\\'Or this time.\"'},\n",
              " {'label': 1,\n",
              "  'text': 'Kane returns Monday on #Raw will we see the mask or not #WWE'}]"
            ]
          },
          "metadata": {},
          "execution_count": 13
        }
      ],
      "source": [
        "for batch in train_loader:\n",
        "    break\n",
        "\n",
        "batch"
      ]
    },
    {
      "cell_type": "code",
      "execution_count": 44,
      "id": "3b9ddcca",
      "metadata": {
        "id": "3b9ddcca"
      },
      "outputs": [],
      "source": [
        "class Tokenizer:\n",
        "    \n",
        "    def __init__(self, base_tokenizer, token2index, pad_token, unk_token, max_length):\n",
        "        \n",
        "        self._base_tokenizer = base_tokenizer  # например ToktokTokenizer()\n",
        "        \n",
        "        self.token2index = token2index  # словарь из load_embeddings()\n",
        "        \n",
        "        self.pad_token = pad_token\n",
        "        self.pad_index = self.token2index[self.pad_token]\n",
        "        \n",
        "        self.unk_token = unk_token\n",
        "        self.unk_index = self.token2index[self.unk_token]\n",
        "        \n",
        "        self.max_length = max_length\n",
        "\n",
        "    def tokenize(self, text):\n",
        "        \"\"\"\n",
        "        В этом методе нужно разделить строку текста на токены\n",
        "        \"\"\"\n",
        "        return self._base_tokenizer.tokenize(text)\n",
        "    \n",
        "    def indexing(self, tokenized_text):\n",
        "        \"\"\"\n",
        "        В этом методе нужно перевести список токенов в список с индексами этих токенов\n",
        "        \"\"\"\n",
        "        tokens_indices = [self.token2index.get(token, self.unk_index) \n",
        "                          for token in tokenized_text]\n",
        "        return tokens_indices\n",
        "        \n",
        "    def padding(self, tokens_indices):\n",
        "        \"\"\"\n",
        "        В этом методе нужно сделать длину tokens_indices равной self.max_length\n",
        "        Опционально убрать повторяющиеся unk'и\n",
        "        \"\"\"\n",
        "        padded_indices = [self.pad_index] * self.max_length\n",
        "        for i, token_i in enumerate(tokens_indices[:self.max_length]):\n",
        "            padded_indices[i] = token_i\n",
        "            \n",
        "        return padded_indices\n",
        "    \n",
        "    def __call__(self, text):\n",
        "        \"\"\"\n",
        "        В этом методе нужно перевести строку с текстом в вектор с индексами слов нужно размера (self.max_length)\n",
        "        \"\"\"\n",
        "        return self.padding(self.indexing(self.tokenize(text)))\n",
        "        \n",
        "    def collate(self, batch):\n",
        "        \n",
        "        tokenized_texts = list()\n",
        "        labels = list()\n",
        "        \n",
        "        for sample in batch:\n",
        "            tokenized_texts.append(self(sample['text']))\n",
        "            labels.append(sample['label'])\n",
        "            \n",
        "        tokenized_texts = torch.LongTensor(tokenized_texts)  # перевод в torch.Tensor\n",
        "        labels = torch.LongTensor(labels)  # перевод в torch.Tensor\n",
        "        \n",
        "        return tokenized_texts, labels"
      ]
    },
    {
      "cell_type": "code",
      "source": [
        "batch_size = 128"
      ],
      "metadata": {
        "id": "XuIxbX7nyZAo"
      },
      "id": "XuIxbX7nyZAo",
      "execution_count": 45,
      "outputs": []
    },
    {
      "cell_type": "code",
      "source": [
        "token2index, embeddings_matrix = load_embeddings(\"/content/cc.ru.300.vec\")"
      ],
      "metadata": {
        "colab": {
          "base_uri": "https://localhost:8080/"
        },
        "id": "gj6gV2tDyLTs",
        "outputId": "7c4c20a7-c1a5-431c-dc6f-6aa455cad076"
      },
      "id": "gj6gV2tDyLTs",
      "execution_count": 46,
      "outputs": [
        {
          "output_type": "stream",
          "name": "stderr",
          "text": [
            "Reading embeddings file: 117085it [00:11, 10615.63it/s]\n"
          ]
        }
      ]
    },
    {
      "cell_type": "code",
      "source": [
        "tokenizer = Tokenizer(\n",
        "    base_tokenizer=ToktokTokenizer(),\n",
        "    token2index=token2index,\n",
        "    pad_token=\"PAD\",\n",
        "    unk_token=\"UNK\",\n",
        "    max_length=batch_size\n",
        ")"
      ],
      "metadata": {
        "id": "jr7EQ5DDxtYG"
      },
      "id": "jr7EQ5DDxtYG",
      "execution_count": 47,
      "outputs": []
    },
    {
      "cell_type": "code",
      "execution_count": 48,
      "id": "40268f8c",
      "metadata": {
        "id": "40268f8c"
      },
      "outputs": [],
      "source": [
        "train_loader = DataLoader(train_dataset, batch_size=batch_size, shuffle=True, collate_fn=tokenizer.collate)\n",
        "valid_loader = DataLoader(valid_dataset, batch_size=batch_size, shuffle=False, collate_fn=tokenizer.collate)\n",
        "test_loader = DataLoader(test_dataset, batch_size=batch_size, shuffle=False, collate_fn=tokenizer.collate)"
      ]
    },
    {
      "cell_type": "code",
      "execution_count": 49,
      "id": "d293b759",
      "metadata": {
        "id": "d293b759"
      },
      "outputs": [],
      "source": [
        "for x, y in train_loader:\n",
        "    break"
      ]
    },
    {
      "cell_type": "code",
      "execution_count": 50,
      "id": "87752ad7",
      "metadata": {
        "id": "87752ad7"
      },
      "outputs": [],
      "source": [
        "assert(isinstance(x, torch.Tensor))\n",
        "assert(len(x.size()) == 2)\n",
        "\n",
        "assert(isinstance(y, torch.Tensor))\n",
        "assert(len(y.size()) == 1)"
      ]
    },
    {
      "cell_type": "markdown",
      "id": "ff1f451c",
      "metadata": {
        "id": "ff1f451c"
      },
      "source": [
        "# Я выбрала метрику Accuracy\n",
        "Почему я выбрала эту метрику:  \n",
        "в обзорной статье о различных подходов к sentiment-анализу в твиттере Giachanou, A., & Crestani, F. (2016). Like it or not: A survey of twitter sentiment analysis methods (https://dl.acm.org/doi/abs/10.1145/2938640) авторы называют метрику Accuracy самым популярным выбором, поскольку фактически это проблема классификации, и Accuracy -- классическая метрика для нее. Эта метрика оценивает, как часто модель делает верное предсказание."
      ]
    },
    {
      "cell_type": "code",
      "execution_count": 91,
      "id": "da42260c",
      "metadata": {
        "id": "da42260c"
      },
      "outputs": [],
      "source": [
        "class DeepAverageNetwork(nn.Module):\n",
        "    def __init__(self, embedding_matrix):\n",
        "        super().__init__()\n",
        "        self.embedding_layer = nn.EmbeddingBag.from_pretrained(\n",
        "            embeddings=torch.from_numpy(embedding_matrix).to(torch.float32),\n",
        "            mode='mean',\n",
        "            padding_idx=0,\n",
        "            max_norm=10.0,\n",
        "            freeze=False,\n",
        "        )\n",
        "        self.linear = nn.Linear(embedding_matrix.shape[1], batch_size*2)\n",
        "        self.relu = nn.ReLU()\n",
        "        self.output = nn.Linear(batch_size*2, 3)\n",
        "        self.bnorm = nn.BatchNorm1d(batch_size*2)\n",
        "        \n",
        "    def forward(self, x):\n",
        "        x_embed = self.embedding_layer(x)\n",
        "        x_embed = self.linear(x_embed)\n",
        "        x_embed = self.relu(x_embed)\n",
        "        x_embed = self.bnorm(x_embed)\n",
        "        x_embed = self.output(x_embed)\n",
        "        \n",
        "        return x_embed"
      ]
    },
    {
      "cell_type": "code",
      "execution_count": 92,
      "id": "7966f715",
      "metadata": {
        "id": "7966f715"
      },
      "outputs": [],
      "source": [
        "model = DeepAverageNetwork(embeddings_matrix)\n",
        "device = torch.device('cuda')"
      ]
    },
    {
      "cell_type": "markdown",
      "id": "5efad1d1",
      "metadata": {
        "id": "5efad1d1"
      },
      "source": [
        "## Задайте функцию потерь и оптимизатор"
      ]
    },
    {
      "cell_type": "code",
      "execution_count": 93,
      "id": "34c552fa",
      "metadata": {
        "id": "34c552fa"
      },
      "outputs": [],
      "source": [
        "loss = nn.CrossEntropyLoss()\n",
        "optimizer = torch.optim.Adam(model.parameters(), lr=0.001)\n",
        "model = model.to(device)"
      ]
    },
    {
      "cell_type": "markdown",
      "id": "628847fe",
      "metadata": {
        "id": "628847fe"
      },
      "source": [
        "## Сделайте цикл обучения"
      ]
    },
    {
      "cell_type": "code",
      "source": [
        "NUM_EPOCHS = 7  # Задайте количество эпох\n",
        "train_loss = []\n",
        "train_accuracy = []\n",
        "val_loss = []\n",
        "val_accuracy = []\n",
        "\n",
        "warmup_ratio = 0.3\n",
        "num_training_steps = len(train_loader) * NUM_EPOCHS\n",
        "num_warmup = int(round(num_training_steps * warmup_ratio))\n",
        "\n",
        "lr_sched = get_cosine_schedule_with_warmup(optimizer=optimizer, num_training_steps=num_training_steps, num_warmup_steps=num_warmup)\n",
        "\n",
        "for n_epoch in range(NUM_EPOCHS):\n",
        "    \n",
        "    # train\n",
        "    y_pred = []\n",
        "    y_true = []\n",
        "    epoch_loss = []\n",
        "    for i, (x, y) in enumerate(tqdm(train_loader, desc=f\"Train Epoch {n_epoch}\")):\n",
        "        x = x.to(device)\n",
        "        y = y.to(device)\n",
        "        logits = model(x)\n",
        "        loss_value = loss(logits, y)\n",
        "        loss_value.backward()\n",
        "        optimizer.step()\n",
        "        lr_sched.step()\n",
        "        optimizer.zero_grad()\n",
        "        \n",
        "        epoch_loss.append(loss_value.item())\n",
        "        \n",
        "        with torch.no_grad():\n",
        "            y_pred_batch = torch.argmax(torch.softmax(logits, -1), -1)\n",
        "            y_pred_batch = y_pred_batch.detach().cpu().numpy()\n",
        "            y_true_batch = y.detach().cpu().numpy()\n",
        "            \n",
        "            y_pred += list(y_pred_batch)\n",
        "            y_true += list(y_true_batch)\n",
        "                \n",
        "    train_loss.append(np.mean(epoch_loss))\n",
        "    ep_train_accuracy = accuracy_score(y_true, y_pred)\n",
        "    train_accuracy.append(ep_train_accuracy)\n",
        "\n",
        "    # validation\n",
        "    epoch_val_loss = []\n",
        "    with torch.no_grad():\n",
        "        y_pred = []\n",
        "        y_true = []\n",
        "        for x, y in valid_loader:\n",
        "            x = x.to(device)\n",
        "            y = y.to(device)\n",
        "            logits = model(x)\n",
        "            epoch_val_loss.append(loss(logits, y).item())\n",
        "            y_pred_batch = torch.argmax(torch.softmax(logits, -1), -1).cpu().numpy()\n",
        "            y_true_batch = y.cpu().numpy()\n",
        "            \n",
        "            y_pred += list(y_pred_batch)\n",
        "            y_true += list(y_true_batch)\n",
        "            \n",
        "        ep_val_accuracy = accuracy_score(y_true, y_pred)\n",
        "        val_accuracy.append(ep_val_accuracy)\n",
        "        val_loss.append(np.mean(epoch_val_loss))\n",
        "    \n",
        "    print(f\"Train Accuracy: {ep_train_accuracy:.4f}, Val Accuracy: {ep_val_accuracy:.4f}\")\n",
        "    print(f\"Train Loss: {np.mean(epoch_loss):.4f}, Val Loss: {np.mean(epoch_val_loss):.4f}\")\n",
        "    \n",
        "# test\n",
        "y_pred = []\n",
        "y_true = []\n",
        "with torch.no_grad():\n",
        "    for x, y in tqdm(test_loader):\n",
        "        x = x.to(device)\n",
        "        y = y.to(device)\n",
        "        logits = model(x)\n",
        "        y_pred_batch = torch.argmax(torch.softmax(logits, -1), -1).cpu().numpy()\n",
        "        y_true_batch = y.cpu().numpy()\n",
        "\n",
        "        y_pred += list(y_pred_batch)\n",
        "        y_true += list(y_true_batch)\n",
        "        \n",
        "test_accuracy = accuracy_score(y_true, y_pred)\n",
        "print(f\"Test Accuracy: {test_accuracy:.4f}\")"
      ],
      "metadata": {
        "colab": {
          "base_uri": "https://localhost:8080/"
        },
        "id": "cnwZ2iMV9x2I",
        "outputId": "2564c73a-c386-4dde-cfba-7a42ffcec385"
      },
      "id": "cnwZ2iMV9x2I",
      "execution_count": 94,
      "outputs": [
        {
          "output_type": "stream",
          "name": "stderr",
          "text": [
            "Train Epoch 0: 100%|██████████| 357/357 [00:19<00:00, 18.26it/s]\n"
          ]
        },
        {
          "output_type": "stream",
          "name": "stdout",
          "text": [
            "Train Accuracy: 0.4913, Val Accuracy: 0.5550\n",
            "Train Loss: 1.0076, Val Loss: 0.9281\n"
          ]
        },
        {
          "output_type": "stream",
          "name": "stderr",
          "text": [
            "Train Epoch 1: 100%|██████████| 357/357 [00:18<00:00, 19.06it/s]\n"
          ]
        },
        {
          "output_type": "stream",
          "name": "stdout",
          "text": [
            "Train Accuracy: 0.5830, Val Accuracy: 0.5565\n",
            "Train Loss: 0.8886, Val Loss: 0.9047\n"
          ]
        },
        {
          "output_type": "stream",
          "name": "stderr",
          "text": [
            "Train Epoch 2: 100%|██████████| 357/357 [00:18<00:00, 19.52it/s]\n"
          ]
        },
        {
          "output_type": "stream",
          "name": "stdout",
          "text": [
            "Train Accuracy: 0.5999, Val Accuracy: 0.5750\n",
            "Train Loss: 0.8581, Val Loss: 0.8861\n"
          ]
        },
        {
          "output_type": "stream",
          "name": "stderr",
          "text": [
            "Train Epoch 3: 100%|██████████| 357/357 [00:17<00:00, 20.08it/s]\n"
          ]
        },
        {
          "output_type": "stream",
          "name": "stdout",
          "text": [
            "Train Accuracy: 0.6162, Val Accuracy: 0.5890\n",
            "Train Loss: 0.8334, Val Loss: 0.8773\n"
          ]
        },
        {
          "output_type": "stream",
          "name": "stderr",
          "text": [
            "Train Epoch 4: 100%|██████████| 357/357 [00:18<00:00, 19.25it/s]\n"
          ]
        },
        {
          "output_type": "stream",
          "name": "stdout",
          "text": [
            "Train Accuracy: 0.6265, Val Accuracy: 0.5905\n",
            "Train Loss: 0.8147, Val Loss: 0.8798\n"
          ]
        },
        {
          "output_type": "stream",
          "name": "stderr",
          "text": [
            "Train Epoch 5: 100%|██████████| 357/357 [00:18<00:00, 19.13it/s]\n"
          ]
        },
        {
          "output_type": "stream",
          "name": "stdout",
          "text": [
            "Train Accuracy: 0.6356, Val Accuracy: 0.5965\n",
            "Train Loss: 0.7995, Val Loss: 0.8781\n"
          ]
        },
        {
          "output_type": "stream",
          "name": "stderr",
          "text": [
            "Train Epoch 6: 100%|██████████| 357/357 [00:18<00:00, 19.83it/s]\n"
          ]
        },
        {
          "output_type": "stream",
          "name": "stdout",
          "text": [
            "Train Accuracy: 0.6417, Val Accuracy: 0.5940\n",
            "Train Loss: 0.7883, Val Loss: 0.8824\n"
          ]
        },
        {
          "output_type": "stream",
          "name": "stderr",
          "text": [
            "100%|██████████| 96/96 [00:02<00:00, 41.93it/s]"
          ]
        },
        {
          "output_type": "stream",
          "name": "stdout",
          "text": [
            "Test Accuracy: 0.4907\n"
          ]
        },
        {
          "output_type": "stream",
          "name": "stderr",
          "text": [
            "\n"
          ]
        }
      ]
    },
    {
      "cell_type": "code",
      "source": [
        "print(classification_report(y_true, y_pred))"
      ],
      "metadata": {
        "colab": {
          "base_uri": "https://localhost:8080/"
        },
        "id": "CjFV_nEaUs4i",
        "outputId": "be099c49-592a-4ca8-d369-51e4e8fabbf6"
      },
      "id": "CjFV_nEaUs4i",
      "execution_count": 95,
      "outputs": [
        {
          "output_type": "stream",
          "name": "stdout",
          "text": [
            "              precision    recall  f1-score   support\n",
            "\n",
            "           0       0.60      0.13      0.21      3972\n",
            "           1       0.55      0.68      0.61      5937\n",
            "           2       0.36      0.63      0.46      2375\n",
            "\n",
            "    accuracy                           0.49     12284\n",
            "   macro avg       0.50      0.48      0.43     12284\n",
            "weighted avg       0.53      0.49      0.45     12284\n",
            "\n"
          ]
        }
      ]
    },
    {
      "cell_type": "code",
      "source": [
        "ConfusionMatrixDisplay.from_predictions(y_true, y_pred)"
      ],
      "metadata": {
        "colab": {
          "base_uri": "https://localhost:8080/",
          "height": 299
        },
        "id": "22S-DcNPVmrA",
        "outputId": "0f320a83-56f2-466b-f4d6-0d536fe200ee"
      },
      "id": "22S-DcNPVmrA",
      "execution_count": 96,
      "outputs": [
        {
          "output_type": "execute_result",
          "data": {
            "text/plain": [
              "<sklearn.metrics._plot.confusion_matrix.ConfusionMatrixDisplay at 0x7f9342c64890>"
            ]
          },
          "metadata": {},
          "execution_count": 96
        },
        {
          "output_type": "display_data",
          "data": {
            "image/png": "[encoded data removed]",
            "text/plain": [
              "<Figure size 432x288 with 2 Axes>"
            ]
          },
          "metadata": {
            "needs_background": "light"
          }
        }
      ]
    },
    {
      "cell_type": "markdown",
      "id": "87583e79",
      "metadata": {
        "id": "87583e79"
      },
      "source": [
        "# Выводы\n"
      ]
    },
    {
      "cell_type": "markdown",
      "source": [
        "Результаты получились не очень впечатляющие, и я не уверена, в чем проблема. Хуже всего получилось с негативным лейблом, модели свойствено принимать его за нейтральный, а вот с нейтральным и позитивным нормально, при этом модель скорее путает их друг с другом, чем с негативными. Сложно сказать, почему так, может быть не хватило данных или они получились не очень качественными. Из личных успехов -- удалось написать что-то работающее без ошибок, хотелось бы делать это и дальше. "
      ],
      "metadata": {
        "id": "QVCv1K6IYt6D"
      },
      "id": "QVCv1K6IYt6D"
    }
  ],
  "metadata": {
    "kernelspec": {
      "display_name": "Python 3",
      "language": "python",
      "name": "python3"
    },
    "language_info": {
      "codemirror_mode": {
        "name": "ipython",
        "version": 3
      },
      "file_extension": ".py",
      "mimetype": "text/x-python",
      "name": "python",
      "nbconvert_exporter": "python",
      "pygments_lexer": "ipython3",
      "version": "3.8.10"
    },
    "colab": {
      "name": "Копия блокнота \"DAN Task.ipynb\"",
      "provenance": [],
      "collapsed_sections": []
    },
    "accelerator": "GPU"
  },
  "nbformat": 4,
  "nbformat_minor": 5
}
